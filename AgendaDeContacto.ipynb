{
 "cells": [
  {
   "cell_type": "markdown",
   "metadata": {},
   "source": [
    "# Agenda de contacto"
   ]
  },
  {
   "cell_type": "markdown",
   "metadata": {},
   "source": [
    "## Este programa realiza lo siguiente:\n",
    "-Almacena un contacto que devera contener nombre comleto, telefono fijo movil, correo elecrtronico y usuario de GitHub"
   ]
  },
  {
   "cell_type": "code",
   "execution_count": 3,
   "metadata": {},
   "outputs": [],
   "source": [
    "class contacto: #deficion de la clase contacto con atributos:nombre, telefono fijo, telefono movil, correo y github\n",
    "    def __init__(self,nombre, telefono_fijo, telefono_movil, correo, github):\n",
    "        self.nombre = nombre\n",
    "        self.telefono_fijo = telefono_fijo\n",
    "        self.telefono_movil = telefono_movil\n",
    "        self.correo = correo\n",
    "        self.github = github\n",
    "\n",
    "class Agendacontactos: #definicion a la clase Agendacontactos con una lista para almacenar contactos\n",
    "    def __init__(self):\n",
    "        self.contactos= []\n",
    "\n",
    "    def agrega_contacto(self, contacto): #modo para agregar un contacto a la lista\n",
    "        self.contactos.append(contacto)\n",
    "\n",
    "    def mostrar_contactos(self): #metodo para mostrar la lista de contactos \n",
    "        for contacto in self.contactos:\n",
    "            print(f\"nombre: {contacto.nombre}\")\n",
    "            print(f\"telefono fijo: {contacto.telefono_fijo}\")\n",
    "            print(f\"telefono movil: {contacto.telefono_movil}\")\n",
    "            print(f\"correo electronico: {contacto.correo}\")\n",
    "            print(f\"usuario github: {contacto.github}\")\n",
    "            print(\"\")\n",
    "            \n",
    "    def buscar_por_github(self, username): #metodo para buscar un contacto por el nombre \n",
    "        for contacto in self.contactos:\n",
    "            if contacto.nombre == username:\n",
    "                print(f\"usuario encontrado:\")\n",
    "                print(f\"nombre: {contacto.nombre}\")\n",
    "                print(f\"telefono fijo: {contacto.telefono_fijo}\")\n",
    "                print(f\"telefono movil: {contacto.telefono_movil}\")\n",
    "                print(f\"correo electronico: {contacto.correo}\")\n",
    "                print(f\"usuario github: {contacto.github}\")\n",
    "                return\n",
    "            print(\"usuario no encontrado\")"
   ]
  },
  {
   "cell_type": "code",
   "execution_count": 4,
   "metadata": {},
   "outputs": [],
   "source": [
    "agenda= Agendacontactos() # creacion de una instancia a la clase Agendacontactos \n",
    "# creacion de dos instancias de la clase contacto y agregar a la agenda \n",
    "contacto1= contacto(\"Juan Perez\", \"5050395820\", \"5590567459\", \"Juan28@gmail.com\", \"JuanGitGUb\")\n",
    "contacto2= contacto(\"Maria Lopez\", \"6890659094\", \"5625145360\", \"Maria08@fmail.com\", \"MariaGitHub\")\n",
    "agenda.agrega_contacto(contacto1)\n",
    "agenda.agrega_contacto(contacto2)"
   ]
  },
  {
   "cell_type": "code",
   "execution_count": 5,
   "metadata": {},
   "outputs": [
    {
     "name": "stdout",
     "output_type": "stream",
     "text": [
      "Lista de contactos:\n",
      "nombre: Juan Perez\n",
      "telefono fijo: 5050395820\n",
      "telefono movil: 5590567459\n",
      "correo electronico: Juan28@gmail.com\n",
      "usuario github: JuanGitGUb\n",
      "\n",
      "nombre: Maria Lopez\n",
      "telefono fijo: 6890659094\n",
      "telefono movil: 5625145360\n",
      "correo electronico: Maria08@fmail.com\n",
      "usuario github: MariaGitHub\n",
      "\n"
     ]
    }
   ],
   "source": [
    "print(\"Lista de contactos:\")\n",
    "agenda.mostrar_contactos() #muestra la lista de contactos agendada"
   ]
  },
  {
   "cell_type": "code",
   "execution_count": 6,
   "metadata": {},
   "outputs": [
    {
     "name": "stdout",
     "output_type": "stream",
     "text": [
      "\n",
      " Buscando usuario GitHub 'Maria Lopez':\n",
      "usuario no encontrado\n",
      "usuario encontrado:\n",
      "nombre: Maria Lopez\n",
      "telefono fijo: 6890659094\n",
      "telefono movil: 5625145360\n",
      "correo electronico: Maria08@fmail.com\n",
      "usuario github: MariaGitHub\n"
     ]
    }
   ],
   "source": [
    "username_buscar=\"Maria Lopez\" #solicitar al usuario que ingrese su nombre para buscar \n",
    "print(f\"\\n Buscando usuario GitHub '{username_buscar}':\")\n",
    "agenda.buscar_por_github(username_buscar) #buscar el usuario por el nombre en la agenda y mostrar la informacion si se encuentra "
   ]
  }
 ],
 "metadata": {
  "kernelspec": {
   "display_name": "Python 3",
   "language": "python",
   "name": "python3"
  },
  "language_info": {
   "codemirror_mode": {
    "name": "ipython",
    "version": 3
   },
   "file_extension": ".py",
   "mimetype": "text/x-python",
   "name": "python",
   "nbconvert_exporter": "python",
   "pygments_lexer": "ipython3",
   "version": "3.11.6"
  }
 },
 "nbformat": 4,
 "nbformat_minor": 2
}
